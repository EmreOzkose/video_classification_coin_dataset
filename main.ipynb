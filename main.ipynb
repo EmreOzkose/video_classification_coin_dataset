{
 "cells": [
  {
   "cell_type": "markdown",
   "metadata": {},
   "source": [
    "# Video Classification with Pytorch\n",
    "\n",
    "In this tutorial, I will guide video classification on [Coin Dataset](https://github.com/coin-dataset/annotations). Coin is a dataset that contains instructional videos with their corresponding action labels. There are various actions, but I choose 2 of them () for simplicity of tutorial.\n",
    "\n",
    "Recipe Steps:\n",
    "1. Download Data\n",
    "2. "
   ]
  },
  {
   "cell_type": "code",
   "execution_count": null,
   "metadata": {},
   "outputs": [],
   "source": [
    "import os\n",
    "import json\n",
    "import yt_dlp\n",
    "import datetime\n",
    "import pandas as pd\n",
    "\n",
    "from tqdm import tqdm"
   ]
  },
  {
   "cell_type": "markdown",
   "metadata": {},
   "source": [
    "Target Id                                   0\n",
    "Target Label             UseAnalyticalBalance\n",
    "Action Id                                  65\n",
    "Action Label    clean inner wall of container\n",
    "Name: 0, dtype: object"
   ]
  },
  {
   "cell_type": "code",
   "execution_count": null,
   "metadata": {},
   "outputs": [],
   "source": []
  },
  {
   "cell_type": "code",
   "execution_count": null,
   "metadata": {},
   "outputs": [],
   "source": []
  },
  {
   "cell_type": "code",
   "execution_count": null,
   "metadata": {},
   "outputs": [],
   "source": []
  },
  {
   "cell_type": "code",
   "execution_count": null,
   "metadata": {},
   "outputs": [],
   "source": []
  },
  {
   "cell_type": "code",
   "execution_count": null,
   "metadata": {},
   "outputs": [],
   "source": []
  },
  {
   "cell_type": "code",
   "execution_count": null,
   "metadata": {},
   "outputs": [],
   "source": [
    "# sanity check\n",
    "for i in classification_dataloader_train:\n",
    "    inputs, labels = i\n",
    "    inputs = inputs.to(device)\n",
    "    labels = labels.to(device)\n",
    "    print(inputs.shape)\n",
    "    print(labels)\n",
    "\n",
    "    preds = model(inputs)\n",
    "    print(preds.shape)\n",
    "    break"
   ]
  },
  {
   "cell_type": "code",
   "execution_count": null,
   "metadata": {},
   "outputs": [],
   "source": []
  },
  {
   "cell_type": "code",
   "execution_count": null,
   "metadata": {},
   "outputs": [],
   "source": []
  },
  {
   "cell_type": "code",
   "execution_count": 11,
   "metadata": {},
   "outputs": [
    {
     "ename": "RuntimeError",
     "evalue": "Not compiled with video_reader support, to enable video_reader support, please install ffmpeg (version 4.2 is currently supported) and build torchvision from source.",
     "output_type": "error",
     "traceback": [
      "\u001b[0;31m---------------------------------------------------------------------------\u001b[0m",
      "\u001b[0;31mRuntimeError\u001b[0m                              Traceback (most recent call last)",
      "\u001b[1;32m/home/emre/workspace/medium_repos/video_classification_coin_dataset/main.ipynb Cell 12'\u001b[0m in \u001b[0;36m<cell line: 19>\u001b[0;34m()\u001b[0m\n\u001b[1;32m     <a href='vscode-notebook-cell:/home/emre/workspace/medium_repos/video_classification_coin_dataset/main.ipynb#ch0000011?line=15'>16</a>\u001b[0m     frames \u001b[39m=\u001b[39m torch\u001b[39m.\u001b[39mstack(frames)\n\u001b[1;32m     <a href='vscode-notebook-cell:/home/emre/workspace/medium_repos/video_classification_coin_dataset/main.ipynb#ch0000011?line=16'>17</a>\u001b[0m     \u001b[39mprint\u001b[39m(frames\u001b[39m.\u001b[39mshape)\n\u001b[0;32m---> <a href='vscode-notebook-cell:/home/emre/workspace/medium_repos/video_classification_coin_dataset/main.ipynb#ch0000011?line=18'>19</a>\u001b[0m read_video(\u001b[39m\"\u001b[39;49m\u001b[39m/home/emre/workspace/medium_repos/video_classification_coin_dataset/coin_subset/0/_6TyXxLWYd0.mp4\u001b[39;49m\u001b[39m\"\u001b[39;49m)\n",
      "\u001b[1;32m/home/emre/workspace/medium_repos/video_classification_coin_dataset/main.ipynb Cell 12'\u001b[0m in \u001b[0;36mread_video\u001b[0;34m(video_path)\u001b[0m\n\u001b[1;32m      <a href='vscode-notebook-cell:/home/emre/workspace/medium_repos/video_classification_coin_dataset/main.ipynb#ch0000011?line=4'>5</a>\u001b[0m \u001b[39mdef\u001b[39;00m \u001b[39mread_video\u001b[39m(video_path):\n\u001b[1;32m      <a href='vscode-notebook-cell:/home/emre/workspace/medium_repos/video_classification_coin_dataset/main.ipynb#ch0000011?line=5'>6</a>\u001b[0m     stream \u001b[39m=\u001b[39m \u001b[39m\"\u001b[39m\u001b[39mvideo\u001b[39m\u001b[39m\"\u001b[39m\n\u001b[0;32m----> <a href='vscode-notebook-cell:/home/emre/workspace/medium_repos/video_classification_coin_dataset/main.ipynb#ch0000011?line=6'>7</a>\u001b[0m     video \u001b[39m=\u001b[39m torchvision\u001b[39m.\u001b[39;49mio\u001b[39m.\u001b[39;49mVideoReader(video_path, stream)\n\u001b[1;32m      <a href='vscode-notebook-cell:/home/emre/workspace/medium_repos/video_classification_coin_dataset/main.ipynb#ch0000011?line=7'>8</a>\u001b[0m     video\u001b[39m.\u001b[39mget_metadata()\n\u001b[1;32m     <a href='vscode-notebook-cell:/home/emre/workspace/medium_repos/video_classification_coin_dataset/main.ipynb#ch0000011?line=9'>10</a>\u001b[0m     video\u001b[39m.\u001b[39mset_current_stream(\u001b[39m\"\u001b[39m\u001b[39maudio\u001b[39m\u001b[39m\"\u001b[39m)\n",
      "File \u001b[0;32m~/anaconda3/envs/coqui/lib/python3.8/site-packages/torchvision/io/__init__.py:130\u001b[0m, in \u001b[0;36mVideoReader.__init__\u001b[0;34m(self, path, stream, num_threads, device)\u001b[0m\n\u001b[1;32m    128\u001b[0m     \u001b[39mreturn\u001b[39;00m\n\u001b[1;32m    129\u001b[0m \u001b[39mif\u001b[39;00m \u001b[39mnot\u001b[39;00m _has_video_opt():\n\u001b[0;32m--> 130\u001b[0m     \u001b[39mraise\u001b[39;00m \u001b[39mRuntimeError\u001b[39;00m(\n\u001b[1;32m    131\u001b[0m         \u001b[39m\"\u001b[39m\u001b[39mNot compiled with video_reader support, \u001b[39m\u001b[39m\"\u001b[39m\n\u001b[1;32m    132\u001b[0m         \u001b[39m+\u001b[39m \u001b[39m\"\u001b[39m\u001b[39mto enable video_reader support, please install \u001b[39m\u001b[39m\"\u001b[39m\n\u001b[1;32m    133\u001b[0m         \u001b[39m+\u001b[39m \u001b[39m\"\u001b[39m\u001b[39mffmpeg (version 4.2 is currently supported) and \u001b[39m\u001b[39m\"\u001b[39m\n\u001b[1;32m    134\u001b[0m         \u001b[39m+\u001b[39m \u001b[39m\"\u001b[39m\u001b[39mbuild torchvision from source.\u001b[39m\u001b[39m\"\u001b[39m\n\u001b[1;32m    135\u001b[0m     )\n\u001b[1;32m    137\u001b[0m \u001b[39mself\u001b[39m\u001b[39m.\u001b[39m_c \u001b[39m=\u001b[39m torch\u001b[39m.\u001b[39mclasses\u001b[39m.\u001b[39mtorchvision\u001b[39m.\u001b[39mVideo(path, stream, num_threads)\n",
      "\u001b[0;31mRuntimeError\u001b[0m: Not compiled with video_reader support, to enable video_reader support, please install ffmpeg (version 4.2 is currently supported) and build torchvision from source."
     ]
    }
   ],
   "source": [
    "import torch\n",
    "import torchvision\n",
    "\n",
    "\n",
    "def read_video(video_path):\n",
    "    stream = \"video\"\n",
    "    video = torchvision.io.VideoReader(video_path, stream)\n",
    "    video.get_metadata()\n",
    "\n",
    "    video.set_current_stream(\"audio\")\n",
    "\n",
    "    frames = []\n",
    "    for frame in video:\n",
    "        frames.append(frame['data'])\n",
    "    print(len(frames))\n",
    "    frames = torch.stack(frames)\n",
    "    print(frames.shape)\n",
    "\n",
    "read_video(\"/home/emre/workspace/medium_repos/video_classification_coin_dataset/coin_subset/0/_6TyXxLWYd0.mp4\")"
   ]
  },
  {
   "cell_type": "code",
   "execution_count": 3,
   "metadata": {},
   "outputs": [
    {
     "name": "stdout",
     "output_type": "stream",
     "text": [
      "Collecting package metadata (current_repodata.json): done\n",
      "Solving environment: done\n",
      "\n",
      "\n",
      "==> WARNING: A newer version of conda exists. <==\n",
      "  current version: 4.10.3\n",
      "  latest version: 4.13.0\n",
      "\n",
      "Please update conda by running\n",
      "\n",
      "    $ conda update -n base conda\n",
      "\n",
      "\n",
      "\n",
      "## Package Plan ##\n",
      "\n",
      "  environment location: /home/emre/anaconda3/envs/coqui\n",
      "\n",
      "  added / updated specs:\n",
      "    - ffmpeg\n",
      "\n",
      "\n",
      "The following packages will be downloaded:\n",
      "\n",
      "    package                    |            build\n",
      "    ---------------------------|-----------------\n",
      "    bzip2-1.0.8                |       h516909a_3         398 KB  conda-forge\n",
      "    ca-certificates-2022.6.15  |       ha878542_0         149 KB  conda-forge\n",
      "    certifi-2022.6.15          |   py38h578d9bd_0         155 KB  conda-forge\n",
      "    ffmpeg-4.2.2               |       h20bf706_0        59.6 MB\n",
      "    freetype-2.10.4            |       h7ca028e_0         912 KB  conda-forge\n",
      "    gmp-6.2.1                  |       h58526e2_0         806 KB  conda-forge\n",
      "    gnutls-3.6.13              |       h85f3911_1         2.0 MB  conda-forge\n",
      "    libopus-1.3.1              |       h7b6447c_0         491 KB\n",
      "    libpng-1.6.37              |       h21135ba_2         306 KB  conda-forge\n",
      "    libvpx-1.7.0               |       h439df22_0         1.2 MB\n",
      "    nettle-3.6                 |       he412f7d_0         6.5 MB  conda-forge\n",
      "    openssl-1.1.1n             |       h7f8727e_0         2.5 MB\n",
      "    python_abi-3.8             |           2_cp38           4 KB  conda-forge\n",
      "    x264-1!157.20191217        |       h7b6447c_0         922 KB\n",
      "    ------------------------------------------------------------\n",
      "                                           Total:        75.9 MB\n",
      "\n",
      "The following NEW packages will be INSTALLED:\n",
      "\n",
      "  bzip2              conda-forge/linux-64::bzip2-1.0.8-h516909a_3\n",
      "  ffmpeg             pkgs/main/linux-64::ffmpeg-4.2.2-h20bf706_0\n",
      "  freetype           conda-forge/linux-64::freetype-2.10.4-h7ca028e_0\n",
      "  gmp                conda-forge/linux-64::gmp-6.2.1-h58526e2_0\n",
      "  gnutls             conda-forge/linux-64::gnutls-3.6.13-h85f3911_1\n",
      "  lame               conda-forge/linux-64::lame-3.100-h14c3975_1001\n",
      "  libopus            pkgs/main/linux-64::libopus-1.3.1-h7b6447c_0\n",
      "  libpng             conda-forge/linux-64::libpng-1.6.37-h21135ba_2\n",
      "  libvpx             pkgs/main/linux-64::libvpx-1.7.0-h439df22_0\n",
      "  nettle             conda-forge/linux-64::nettle-3.6-he412f7d_0\n",
      "  openh264           conda-forge/linux-64::openh264-2.1.1-h8b12597_0\n",
      "  python_abi         conda-forge/linux-64::python_abi-3.8-2_cp38\n",
      "  x264               pkgs/main/linux-64::x264-1!157.20191217-h7b6447c_0\n",
      "\n",
      "The following packages will be UPDATED:\n",
      "\n",
      "  ca-certificates    pkgs/main::ca-certificates-2021.1.19-~ --> conda-forge::ca-certificates-2022.6.15-ha878542_0\n",
      "  certifi            pkgs/main::certifi-2020.12.5-py38h06a~ --> conda-forge::certifi-2022.6.15-py38h578d9bd_0\n",
      "  openssl                                 1.1.1k-h27cfd23_0 --> 1.1.1n-h7f8727e_0\n",
      "\n",
      "\n",
      "\n",
      "Downloading and Extracting Packages\n",
      "gnutls-3.6.13        | 2.0 MB    | ##################################### | 100% \n",
      "openssl-1.1.1n       | 2.5 MB    | ##################################### | 100% \n",
      "certifi-2022.6.15    | 155 KB    | ##################################### | 100% \n",
      "ca-certificates-2022 | 149 KB    | ##################################### | 100% \n",
      "bzip2-1.0.8          | 398 KB    | ##################################### | 100% \n",
      "nettle-3.6           | 6.5 MB    | ##################################### | 100% \n",
      "libpng-1.6.37        | 306 KB    | ##################################### | 100% \n",
      "freetype-2.10.4      | 912 KB    | ##################################### | 100% \n",
      "python_abi-3.8       | 4 KB      | ##################################### | 100% \n",
      "libvpx-1.7.0         | 1.2 MB    | ##################################### | 100% \n",
      "ffmpeg-4.2.2         | 59.6 MB   | ##################################### | 100% \n",
      "libopus-1.3.1        | 491 KB    | ##################################### | 100% \n",
      "x264-1!157.20191217  | 922 KB    | ##################################### | 100% \n",
      "gmp-6.2.1            | 806 KB    | ##################################### | 100% \n",
      "Preparing transaction: done\n",
      "Verifying transaction: done\n",
      "Executing transaction: done\n"
     ]
    }
   ],
   "source": [
    "!conda install -y -c conda-forge ffmpeg"
   ]
  },
  {
   "cell_type": "code",
   "execution_count": 10,
   "metadata": {},
   "outputs": [
    {
     "name": "stdout",
     "output_type": "stream",
     "text": [
      "Collecting torchvision==0.12.0\n",
      "  Using cached torchvision-0.12.0-cp38-cp38-manylinux1_x86_64.whl (21.0 MB)\n",
      "Collecting typing-extensions\n",
      "  Using cached typing_extensions-4.3.0-py3-none-any.whl (25 kB)\n",
      "Collecting pillow!=8.3.*,>=5.3.0\n",
      "  Downloading Pillow-9.2.0-cp38-cp38-manylinux_2_28_x86_64.whl (3.2 MB)\n",
      "\u001b[K     |████████████████████████████████| 3.2 MB 182 kB/s eta 0:00:01\n",
      "\u001b[?25hCollecting numpy\n",
      "  Downloading numpy-1.23.1-cp38-cp38-manylinux_2_17_x86_64.manylinux2014_x86_64.whl (17.1 MB)\n",
      "\u001b[K     |████████████████████████████████| 17.1 MB 46 kB/s eta 0:00:015\n",
      "\u001b[?25hCollecting torch==1.11.0\n",
      "  Using cached torch-1.11.0-cp38-cp38-manylinux1_x86_64.whl (750.6 MB)\n",
      "Collecting requests\n",
      "  Downloading requests-2.28.1-py3-none-any.whl (62 kB)\n",
      "\u001b[K     |████████████████████████████████| 62 kB 71 kB/s eta 0:00:011\n",
      "\u001b[?25hCollecting urllib3<1.27,>=1.21.1\n",
      "  Downloading urllib3-1.26.10-py2.py3-none-any.whl (139 kB)\n",
      "\u001b[K     |████████████████████████████████| 139 kB 53 kB/s eta 0:00:01\n",
      "\u001b[?25hCollecting idna<4,>=2.5\n",
      "  Using cached idna-3.3-py3-none-any.whl (61 kB)\n",
      "Collecting charset-normalizer<3,>=2\n",
      "  Using cached charset_normalizer-2.1.0-py3-none-any.whl (39 kB)\n",
      "Collecting certifi>=2017.4.17\n",
      "  Downloading certifi-2022.6.15-py3-none-any.whl (160 kB)\n",
      "\u001b[K     |████████████████████████████████| 160 kB 86 kB/s eta 0:00:01\n",
      "\u001b[?25hInstalling collected packages: urllib3, typing-extensions, idna, charset-normalizer, certifi, torch, requests, pillow, numpy, torchvision\n",
      "  Attempting uninstall: urllib3\n",
      "    Found existing installation: urllib3 1.26.4\n",
      "    Uninstalling urllib3-1.26.4:\n",
      "      Successfully uninstalled urllib3-1.26.4\n",
      "  Attempting uninstall: typing-extensions\n",
      "    Found existing installation: typing-extensions 4.3.0\n",
      "    Uninstalling typing-extensions-4.3.0:\n",
      "      Successfully uninstalled typing-extensions-4.3.0\n",
      "  Attempting uninstall: idna\n",
      "    Found existing installation: idna 2.10\n",
      "    Uninstalling idna-2.10:\n",
      "      Successfully uninstalled idna-2.10\n",
      "  Attempting uninstall: charset-normalizer\n",
      "    Found existing installation: charset-normalizer 2.1.0\n",
      "    Uninstalling charset-normalizer-2.1.0:\n",
      "      Successfully uninstalled charset-normalizer-2.1.0\n",
      "  Attempting uninstall: certifi\n",
      "    Found existing installation: certifi 2022.6.15\n",
      "    Uninstalling certifi-2022.6.15:\n",
      "      Successfully uninstalled certifi-2022.6.15\n",
      "  Attempting uninstall: torch\n",
      "    Found existing installation: torch 1.11.0\n",
      "    Uninstalling torch-1.11.0:\n",
      "      Successfully uninstalled torch-1.11.0\n",
      "  Attempting uninstall: requests\n",
      "    Found existing installation: requests 2.25.1\n",
      "    Uninstalling requests-2.25.1:\n",
      "      Successfully uninstalled requests-2.25.1\n",
      "  Attempting uninstall: pillow\n",
      "    Found existing installation: Pillow 9.1.0\n",
      "    Uninstalling Pillow-9.1.0:\n",
      "      Successfully uninstalled Pillow-9.1.0\n",
      "  Attempting uninstall: numpy\n",
      "    Found existing installation: numpy 1.22.3\n",
      "    Uninstalling numpy-1.22.3:\n",
      "      Successfully uninstalled numpy-1.22.3\n",
      "  Attempting uninstall: torchvision\n",
      "    Found existing installation: torchvision 0.12.0\n",
      "    Uninstalling torchvision-0.12.0:\n",
      "      Successfully uninstalled torchvision-0.12.0\n",
      "\u001b[31mERROR: pip's dependency resolver does not currently take into account all the packages that are installed. This behaviour is the source of the following dependency conflicts.\n",
      "tensorflow-gpu 2.3.1 requires numpy<1.19.0,>=1.16.0, but you have numpy 1.23.1 which is incompatible.\n",
      "tensorflow 2.3.1 requires numpy<1.19.0,>=1.16.0, but you have numpy 1.23.1 which is incompatible.\u001b[0m\n",
      "Successfully installed certifi-2022.6.15 charset-normalizer-2.1.0 idna-3.3 numpy-1.23.1 pillow-9.2.0 requests-2.28.1 torch-1.11.0 torchvision-0.12.0 typing-extensions-4.3.0 urllib3-1.26.10\n"
     ]
    }
   ],
   "source": [
    "!pip install torchvision==0.12.0 --force-reinstall"
   ]
  },
  {
   "cell_type": "code",
   "execution_count": null,
   "metadata": {},
   "outputs": [],
   "source": []
  }
 ],
 "metadata": {
  "kernelspec": {
   "display_name": "Python 3.8.8 ('coqui')",
   "language": "python",
   "name": "python3"
  },
  "language_info": {
   "codemirror_mode": {
    "name": "ipython",
    "version": 3
   },
   "file_extension": ".py",
   "mimetype": "text/x-python",
   "name": "python",
   "nbconvert_exporter": "python",
   "pygments_lexer": "ipython3",
   "version": "3.8.8"
  },
  "orig_nbformat": 4,
  "vscode": {
   "interpreter": {
    "hash": "65f394a9365c8676d81959ba3b7ed23e6d5a955c3de7c2b78ad8e1e2c6945faf"
   }
  }
 },
 "nbformat": 4,
 "nbformat_minor": 2
}
